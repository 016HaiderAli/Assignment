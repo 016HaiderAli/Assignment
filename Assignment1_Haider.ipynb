{
 "cells": [
  {
   "cell_type": "code",
   "execution_count": 1,
   "id": "abd51b4f",
   "metadata": {},
   "outputs": [
    {
     "name": "stdout",
     "output_type": "stream",
     "text": [
      " Twinkle, twinkle, little star, \n",
      "\t How i wonder what you are!\n",
      "\t\t Up above the world so high,\n",
      "\t\t Like a diamond in the sky.\n",
      " Twinkle, twinkle, little star,\n",
      "\t How i wonder what you are \n"
     ]
    }
   ],
   "source": [
    "#Task1 write a program to program to print the following \n",
    "print(\" Twinkle, twinkle, little star, \\n\\t How i wonder what you are!\\n\\t\\t Up above the world so high,\\n\\t\\t Like a diamond in the sky.\\n Twinkle, twinkle, little star,\\n\\t How i wonder what you are \",)"
   ]
  },
  {
   "cell_type": "code",
   "execution_count": 2,
   "id": "d84e9c37",
   "metadata": {},
   "outputs": [
    {
     "name": "stdout",
     "output_type": "stream",
     "text": [
      "3.9.7 (default, Sep 16 2021, 16:59:28) [MSC v.1916 64 bit (AMD64)]\n"
     ]
    }
   ],
   "source": [
    "#Task2 Write a program to check python version\n",
    "import sys\n",
    "print(sys.version)"
   ]
  },
  {
   "cell_type": "code",
   "execution_count": 3,
   "id": "d76d5749",
   "metadata": {},
   "outputs": [
    {
     "name": "stdout",
     "output_type": "stream",
     "text": [
      "current date =  31-December-2021\n",
      "current time =  08:55 PM\n"
     ]
    }
   ],
   "source": [
    "#Task3 Write a program to get current date and time \n",
    "from datetime import datetime\n",
    "cdate_string = datetime.now().strftime(\"%d-%B-%Y\")\n",
    "ctime_string = datetime.now().strftime(\"%I:%M %p\")\n",
    "print(\"current date = \", cdate_string)\n",
    "print(\"current time = \", ctime_string)"
   ]
  },
  {
   "cell_type": "code",
   "execution_count": 7,
   "id": "701a583e",
   "metadata": {},
   "outputs": [
    {
     "name": "stdout",
     "output_type": "stream",
     "text": [
      "Please enter the radius of cirlce = 5\n",
      "area of circle =  78.55\n"
     ]
    }
   ],
   "source": [
    "#Task4 Write a program which accepts radius of circle from user and compute the area\n",
    "PI = 3.142;\n",
    "radius = float(input(\"Please enter the radius of cirlce = \"));\n",
    "area = PI*radius*radius;\n",
    "print(\"area of circle = \", area);"
   ]
  },
  {
   "cell_type": "code",
   "execution_count": 5,
   "id": "82fd9614",
   "metadata": {},
   "outputs": [
    {
     "name": "stdout",
     "output_type": "stream",
     "text": [
      "Enter your first name: Haider\n",
      "Enter your last name: Ali\n",
      "Ali Haider\n"
     ]
    }
   ],
   "source": [
    "#Task5 Write a program that accepts users`s first and last name and prints it in reverse order with a space a between them.\n",
    "fname_string = input(\"Enter your first name: \")\n",
    "lname_string = input(\"Enter your last name: \")\n",
    "print(\" \".join([lname_string, fname_string]))"
   ]
  },
  {
   "cell_type": "code",
   "execution_count": 8,
   "id": "b28dfaca",
   "metadata": {},
   "outputs": [
    {
     "name": "stdout",
     "output_type": "stream",
     "text": [
      "Enter your first number = 2\n",
      "Enter your second number = 5\n",
      "The sum of two numbers is =  7.0\n"
     ]
    }
   ],
   "source": [
    "#Task6 Write a program that takes two input and perform addition\n",
    "n1 = float(input(\"Enter your first number = \"))\n",
    "n2 = float(input(\"Enter your second number = \"))\n",
    "sum = n1 + n2;\n",
    "print(\"The sum of two numbers is = \", sum)"
   ]
  }
 ],
 "metadata": {
  "kernelspec": {
   "display_name": "Python 3 (ipykernel)",
   "language": "python",
   "name": "python3"
  },
  "language_info": {
   "codemirror_mode": {
    "name": "ipython",
    "version": 3
   },
   "file_extension": ".py",
   "mimetype": "text/x-python",
   "name": "python",
   "nbconvert_exporter": "python",
   "pygments_lexer": "ipython3",
   "version": "3.9.7"
  }
 },
 "nbformat": 4,
 "nbformat_minor": 5
}
