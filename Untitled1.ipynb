{
 "cells": [
  {
   "cell_type": "markdown",
   "id": "eff0068f",
   "metadata": {},
   "source": [
    "# Task1"
   ]
  },
  {
   "cell_type": "code",
   "execution_count": 1,
   "id": "1fd6d130",
   "metadata": {},
   "outputs": [
    {
     "name": "stdout",
     "output_type": "stream",
     "text": [
      " Twinkle, twinkle, little star, \n",
      "\t How i wonder what you are!\n",
      "\t\t Up above the world so high,\n",
      "\t\t Like a diamond in the sky.\n",
      " Twinkle, twinkle, little star,\n",
      "\t How i wonder what you are \n"
     ]
    }
   ],
   "source": [
    "print(\" Twinkle, twinkle, little star, \\n\\t How i wonder what you are!\\n\\t\\t Up above the world so high,\\n\\t\\t Like a diamond in the sky.\\n Twinkle, twinkle, little star,\\n\\t How i wonder what you are \",)"
   ]
  },
  {
   "cell_type": "markdown",
   "id": "4cac700e",
   "metadata": {},
   "source": [
    "# Task2"
   ]
  },
  {
   "cell_type": "code",
   "execution_count": 2,
   "id": "c198aa03",
   "metadata": {},
   "outputs": [
    {
     "name": "stdout",
     "output_type": "stream",
     "text": [
      "3.9.7 (default, Sep 16 2021, 16:59:28) [MSC v.1916 64 bit (AMD64)]\n"
     ]
    }
   ],
   "source": [
    "import sys\n",
    "print(sys.version)"
   ]
  },
  {
   "cell_type": "markdown",
   "id": "138835c1",
   "metadata": {},
   "source": [
    "# Task3"
   ]
  },
  {
   "cell_type": "code",
   "execution_count": 3,
   "id": "75e8150a",
   "metadata": {},
   "outputs": [
    {
     "name": "stdout",
     "output_type": "stream",
     "text": [
      "current date =  01-January-2022\n",
      "current time =  03:51 PM\n"
     ]
    }
   ],
   "source": [
    "from datetime import datetime\n",
    "cdate_string = datetime.now().strftime(\"%d-%B-%Y\")\n",
    "ctime_string = datetime.now().strftime(\"%I:%M %p\")\n",
    "print(\"current date = \", cdate_string)\n",
    "print(\"current time = \", ctime_string)"
   ]
  },
  {
   "cell_type": "markdown",
   "id": "e4afa3e2",
   "metadata": {},
   "source": [
    "# Task4"
   ]
  },
  {
   "cell_type": "code",
   "execution_count": 5,
   "id": "8abace28",
   "metadata": {},
   "outputs": [
    {
     "name": "stdout",
     "output_type": "stream",
     "text": [
      "Please enter the radius of cirlce = 6\n",
      "area of circle =  113.112\n"
     ]
    }
   ],
   "source": [
    "PI = 3.142;\n",
    "radius = float(input(\"Please enter the radius of cirlce = \"));\n",
    "area = PI*radius**2;\n",
    "print(\"area of circle = \", area);"
   ]
  },
  {
   "cell_type": "markdown",
   "id": "ead29169",
   "metadata": {},
   "source": [
    "# Task5"
   ]
  },
  {
   "cell_type": "code",
   "execution_count": 6,
   "id": "6a41e822",
   "metadata": {},
   "outputs": [
    {
     "name": "stdout",
     "output_type": "stream",
     "text": [
      "Enter your first name: Kifayat\n",
      "Enter your last name: Hussain\n",
      "Hussain Kifayat\n"
     ]
    }
   ],
   "source": [
    "fname_string = input(\"Enter your first name: \")\n",
    "lname_string = input(\"Enter your last name: \")\n",
    "print(\" \".join([lname_string, fname_string]))"
   ]
  },
  {
   "cell_type": "markdown",
   "id": "3dcb1464",
   "metadata": {},
   "source": [
    "# Task6"
   ]
  },
  {
   "cell_type": "code",
   "execution_count": 7,
   "id": "84edbc84",
   "metadata": {},
   "outputs": [
    {
     "name": "stdout",
     "output_type": "stream",
     "text": [
      "Enter your first number = 1\n",
      "Enter your second number = 4\n",
      "The sum of two numbers is =  5.0\n"
     ]
    }
   ],
   "source": [
    "n1 = float(input(\"Enter your first number = \"))\n",
    "n2 = float(input(\"Enter your second number = \"))\n",
    "sum = n1 + n2;\n",
    "print(\"The sum of two numbers is = \", sum)"
   ]
  },
  {
   "cell_type": "code",
   "execution_count": null,
   "id": "66e6ae9d",
   "metadata": {},
   "outputs": [],
   "source": []
  }
 ],
 "metadata": {
  "kernelspec": {
   "display_name": "Python 3 (ipykernel)",
   "language": "python",
   "name": "python3"
  },
  "language_info": {
   "codemirror_mode": {
    "name": "ipython",
    "version": 3
   },
   "file_extension": ".py",
   "mimetype": "text/x-python",
   "name": "python",
   "nbconvert_exporter": "python",
   "pygments_lexer": "ipython3",
   "version": "3.9.7"
  }
 },
 "nbformat": 4,
 "nbformat_minor": 5
}
