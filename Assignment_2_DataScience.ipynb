{
 "cells": [
  {
   "cell_type": "markdown",
   "id": "63ab7446",
   "metadata": {},
   "source": [
    "# Assignment 2 ( Data Science)\n",
    "\n",
    "# Task: Add two columns High_Low_Speed and High_Low_HP in the same dataset as we worked in class."
   ]
  },
  {
   "cell_type": "code",
   "execution_count": 1,
   "id": "f484f3f3",
   "metadata": {},
   "outputs": [],
   "source": [
    "import pandas as pd"
   ]
  },
  {
   "cell_type": "code",
   "execution_count": null,
   "id": "2131debc",
   "metadata": {},
   "outputs": [],
   "source": []
  }
 ],
 "metadata": {
  "kernelspec": {
   "display_name": "Python 3 (ipykernel)",
   "language": "python",
   "name": "python3"
  },
  "language_info": {
   "codemirror_mode": {
    "name": "ipython",
    "version": 3
   },
   "file_extension": ".py",
   "mimetype": "text/x-python",
   "name": "python",
   "nbconvert_exporter": "python",
   "pygments_lexer": "ipython3",
   "version": "3.9.7"
  }
 },
 "nbformat": 4,
 "nbformat_minor": 5
}
